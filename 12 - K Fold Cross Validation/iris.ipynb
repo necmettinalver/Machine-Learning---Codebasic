{
 "cells": [
  {
   "cell_type": "code",
   "execution_count": 43,
   "metadata": {},
   "outputs": [],
   "source": [
    "import warnings\n",
    "warnings.filterwarnings('ignore')"
   ]
  },
  {
   "cell_type": "code",
   "execution_count": 2,
   "metadata": {},
   "outputs": [
    {
     "data": {
      "text/plain": [
       "['DESCR',\n",
       " 'data',\n",
       " 'data_module',\n",
       " 'feature_names',\n",
       " 'filename',\n",
       " 'frame',\n",
       " 'target',\n",
       " 'target_names']"
      ]
     },
     "execution_count": 2,
     "metadata": {},
     "output_type": "execute_result"
    }
   ],
   "source": [
    "from sklearn.datasets import load_iris\n",
    "iris = load_iris()\n",
    "dir(iris)"
   ]
  },
  {
   "cell_type": "code",
   "execution_count": 3,
   "metadata": {},
   "outputs": [],
   "source": [
    "from sklearn.model_selection import train_test_split"
   ]
  },
  {
   "cell_type": "code",
   "execution_count": 6,
   "metadata": {},
   "outputs": [
    {
     "name": "stdout",
     "output_type": "stream",
     "text": [
      "120  -  30\n"
     ]
    }
   ],
   "source": [
    "X_train, X_test, y_train, y_test = train_test_split(iris.data,iris.target,test_size=0.2)\n",
    "print(len(X_train),\" - \",len(X_test))"
   ]
  },
  {
   "cell_type": "code",
   "execution_count": 8,
   "metadata": {},
   "outputs": [],
   "source": [
    "from sklearn.tree import DecisionTreeClassifier\n",
    "from sklearn.ensemble import AdaBoostClassifier\n",
    "from sklearn.ensemble import RandomForestClassifier\n",
    "from sklearn.svm import SVC,SVR\n",
    "from sklearn.linear_model import LogisticRegression"
   ]
  },
  {
   "cell_type": "code",
   "execution_count": 39,
   "metadata": {},
   "outputs": [],
   "source": [
    "def get_score(model,X_train,X_test,y_train,y_test):\n",
    "    model.fit(X_train,y_train)\n",
    "    return model.score(X_test,y_test)"
   ]
  },
  {
   "cell_type": "code",
   "execution_count": 40,
   "metadata": {},
   "outputs": [],
   "source": [
    "dtc = DecisionTreeClassifier()\n",
    "abc = AdaBoostClassifier()\n",
    "rfc = RandomForestClassifier(n_estimators=60)\n",
    "svc = SVC()\n",
    "svr = SVR()\n",
    "lr = LogisticRegression()\n",
    "models = [dtc,abc,rfc,svc,svr,lr]"
   ]
  },
  {
   "cell_type": "code",
   "execution_count": 44,
   "metadata": {},
   "outputs": [
    {
     "name": "stdout",
     "output_type": "stream",
     "text": [
      "DecisionTreeClassifier() accuarcy score: 0.9666666666666667\n",
      "AdaBoostClassifier() accuarcy score: 0.9666666666666667\n",
      "RandomForestClassifier(n_estimators=60) accuarcy score: 0.9666666666666667\n",
      "SVC() accuarcy score: 0.9666666666666667\n",
      "SVR() accuarcy score: 0.9462811381164545\n",
      "LogisticRegression() accuarcy score: 0.9666666666666667\n"
     ]
    }
   ],
   "source": [
    "for model in models:   \n",
    "    score  = get_score(model,X_train,X_test,y_train,y_test)\n",
    "    print('{} accuarcy score: {}'.format(model, score))"
   ]
  },
  {
   "cell_type": "code",
   "execution_count": 35,
   "metadata": {},
   "outputs": [],
   "source": [
    "from sklearn.model_selection import cross_val_score"
   ]
  },
  {
   "cell_type": "code",
   "execution_count": 46,
   "metadata": {},
   "outputs": [
    {
     "name": "stdout",
     "output_type": "stream",
     "text": [
      "DecisionTreeClassifier() is cross validation scores : [0.96666667 0.96666667 0.9        0.96666667 1.        ]\n",
      "AdaBoostClassifier() is cross validation scores : [0.96666667 0.93333333 0.9        0.93333333 1.        ]\n",
      "RandomForestClassifier(n_estimators=60) is cross validation scores : [0.96666667 0.96666667 0.93333333 0.96666667 1.        ]\n",
      "SVC() is cross validation scores : [0.96666667 0.96666667 0.96666667 0.93333333 1.        ]\n",
      "SVR() is cross validation scores : [0.         0.88056099 0.         0.82555552 0.        ]\n",
      "LogisticRegression() is cross validation scores : [0.96666667 1.         0.93333333 0.96666667 1.        ]\n"
     ]
    }
   ],
   "source": [
    "for model in models:\n",
    "    scores = cross_val_score(model,iris.data,iris.target)\n",
    "    print('{} is cross validation scores : {}'.format(model,scores))"
   ]
  }
 ],
 "metadata": {
  "kernelspec": {
   "display_name": "base",
   "language": "python",
   "name": "python3"
  },
  "language_info": {
   "codemirror_mode": {
    "name": "ipython",
    "version": 3
   },
   "file_extension": ".py",
   "mimetype": "text/x-python",
   "name": "python",
   "nbconvert_exporter": "python",
   "pygments_lexer": "ipython3",
   "version": "3.9.12"
  },
  "orig_nbformat": 4
 },
 "nbformat": 4,
 "nbformat_minor": 2
}
