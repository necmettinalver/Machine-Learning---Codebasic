{
 "cells": [
  {
   "cell_type": "code",
   "execution_count": 52,
   "metadata": {},
   "outputs": [],
   "source": [
    "import pandas as pd\n",
    "import matplotlib.pyplot as plt\n",
    "from sklearn.linear_model import LinearRegression"
   ]
  },
  {
   "cell_type": "code",
   "execution_count": 53,
   "metadata": {},
   "outputs": [],
   "source": [
    "df = pd.read_csv('hiring.csv')"
   ]
  },
  {
   "cell_type": "code",
   "execution_count": 54,
   "metadata": {},
   "outputs": [
    {
     "data": {
      "text/html": [
       "<div>\n",
       "<style scoped>\n",
       "    .dataframe tbody tr th:only-of-type {\n",
       "        vertical-align: middle;\n",
       "    }\n",
       "\n",
       "    .dataframe tbody tr th {\n",
       "        vertical-align: top;\n",
       "    }\n",
       "\n",
       "    .dataframe thead th {\n",
       "        text-align: right;\n",
       "    }\n",
       "</style>\n",
       "<table border=\"1\" class=\"dataframe\">\n",
       "  <thead>\n",
       "    <tr style=\"text-align: right;\">\n",
       "      <th></th>\n",
       "      <th>experience</th>\n",
       "      <th>test_score(out of 10)</th>\n",
       "      <th>interview_score(out of 10)</th>\n",
       "      <th>salary($)</th>\n",
       "    </tr>\n",
       "  </thead>\n",
       "  <tbody>\n",
       "    <tr>\n",
       "      <th>0</th>\n",
       "      <td>NaN</td>\n",
       "      <td>8.0</td>\n",
       "      <td>9</td>\n",
       "      <td>50000</td>\n",
       "    </tr>\n",
       "    <tr>\n",
       "      <th>1</th>\n",
       "      <td>NaN</td>\n",
       "      <td>8.0</td>\n",
       "      <td>6</td>\n",
       "      <td>45000</td>\n",
       "    </tr>\n",
       "    <tr>\n",
       "      <th>2</th>\n",
       "      <td>five</td>\n",
       "      <td>6.0</td>\n",
       "      <td>7</td>\n",
       "      <td>60000</td>\n",
       "    </tr>\n",
       "    <tr>\n",
       "      <th>3</th>\n",
       "      <td>two</td>\n",
       "      <td>10.0</td>\n",
       "      <td>10</td>\n",
       "      <td>65000</td>\n",
       "    </tr>\n",
       "    <tr>\n",
       "      <th>4</th>\n",
       "      <td>seven</td>\n",
       "      <td>9.0</td>\n",
       "      <td>6</td>\n",
       "      <td>70000</td>\n",
       "    </tr>\n",
       "    <tr>\n",
       "      <th>5</th>\n",
       "      <td>three</td>\n",
       "      <td>7.0</td>\n",
       "      <td>10</td>\n",
       "      <td>62000</td>\n",
       "    </tr>\n",
       "    <tr>\n",
       "      <th>6</th>\n",
       "      <td>ten</td>\n",
       "      <td>NaN</td>\n",
       "      <td>7</td>\n",
       "      <td>72000</td>\n",
       "    </tr>\n",
       "    <tr>\n",
       "      <th>7</th>\n",
       "      <td>eleven</td>\n",
       "      <td>7.0</td>\n",
       "      <td>8</td>\n",
       "      <td>80000</td>\n",
       "    </tr>\n",
       "  </tbody>\n",
       "</table>\n",
       "</div>"
      ],
      "text/plain": [
       "  experience  test_score(out of 10)  interview_score(out of 10)  salary($)\n",
       "0        NaN                    8.0                           9      50000\n",
       "1        NaN                    8.0                           6      45000\n",
       "2       five                    6.0                           7      60000\n",
       "3        two                   10.0                          10      65000\n",
       "4      seven                    9.0                           6      70000\n",
       "5      three                    7.0                          10      62000\n",
       "6        ten                    NaN                           7      72000\n",
       "7     eleven                    7.0                           8      80000"
      ]
     },
     "execution_count": 54,
     "metadata": {},
     "output_type": "execute_result"
    }
   ],
   "source": [
    "df"
   ]
  },
  {
   "cell_type": "code",
   "execution_count": 55,
   "metadata": {},
   "outputs": [
    {
     "data": {
      "text/plain": [
       "experience                    2\n",
       "test_score(out of 10)         1\n",
       "interview_score(out of 10)    0\n",
       "salary($)                     0\n",
       "dtype: int64"
      ]
     },
     "execution_count": 55,
     "metadata": {},
     "output_type": "execute_result"
    }
   ],
   "source": [
    "df.isnull().sum()"
   ]
  },
  {
   "cell_type": "code",
   "execution_count": 56,
   "metadata": {},
   "outputs": [
    {
     "data": {
      "text/plain": [
       "8.0"
      ]
     },
     "execution_count": 56,
     "metadata": {},
     "output_type": "execute_result"
    }
   ],
   "source": [
    "df['test_score(out of 10)'].median()"
   ]
  },
  {
   "cell_type": "code",
   "execution_count": 57,
   "metadata": {},
   "outputs": [
    {
     "data": {
      "text/html": [
       "<div>\n",
       "<style scoped>\n",
       "    .dataframe tbody tr th:only-of-type {\n",
       "        vertical-align: middle;\n",
       "    }\n",
       "\n",
       "    .dataframe tbody tr th {\n",
       "        vertical-align: top;\n",
       "    }\n",
       "\n",
       "    .dataframe thead th {\n",
       "        text-align: right;\n",
       "    }\n",
       "</style>\n",
       "<table border=\"1\" class=\"dataframe\">\n",
       "  <thead>\n",
       "    <tr style=\"text-align: right;\">\n",
       "      <th></th>\n",
       "      <th>experience</th>\n",
       "      <th>test_score(out of 10)</th>\n",
       "      <th>interview_score(out of 10)</th>\n",
       "      <th>salary($)</th>\n",
       "    </tr>\n",
       "  </thead>\n",
       "  <tbody>\n",
       "    <tr>\n",
       "      <th>0</th>\n",
       "      <td>zero</td>\n",
       "      <td>8.0</td>\n",
       "      <td>9</td>\n",
       "      <td>50000</td>\n",
       "    </tr>\n",
       "    <tr>\n",
       "      <th>1</th>\n",
       "      <td>zero</td>\n",
       "      <td>8.0</td>\n",
       "      <td>6</td>\n",
       "      <td>45000</td>\n",
       "    </tr>\n",
       "    <tr>\n",
       "      <th>2</th>\n",
       "      <td>five</td>\n",
       "      <td>6.0</td>\n",
       "      <td>7</td>\n",
       "      <td>60000</td>\n",
       "    </tr>\n",
       "    <tr>\n",
       "      <th>3</th>\n",
       "      <td>two</td>\n",
       "      <td>10.0</td>\n",
       "      <td>10</td>\n",
       "      <td>65000</td>\n",
       "    </tr>\n",
       "    <tr>\n",
       "      <th>4</th>\n",
       "      <td>seven</td>\n",
       "      <td>9.0</td>\n",
       "      <td>6</td>\n",
       "      <td>70000</td>\n",
       "    </tr>\n",
       "    <tr>\n",
       "      <th>5</th>\n",
       "      <td>three</td>\n",
       "      <td>7.0</td>\n",
       "      <td>10</td>\n",
       "      <td>62000</td>\n",
       "    </tr>\n",
       "    <tr>\n",
       "      <th>6</th>\n",
       "      <td>ten</td>\n",
       "      <td>NaN</td>\n",
       "      <td>7</td>\n",
       "      <td>72000</td>\n",
       "    </tr>\n",
       "    <tr>\n",
       "      <th>7</th>\n",
       "      <td>eleven</td>\n",
       "      <td>7.0</td>\n",
       "      <td>8</td>\n",
       "      <td>80000</td>\n",
       "    </tr>\n",
       "  </tbody>\n",
       "</table>\n",
       "</div>"
      ],
      "text/plain": [
       "  experience  test_score(out of 10)  interview_score(out of 10)  salary($)\n",
       "0       zero                    8.0                           9      50000\n",
       "1       zero                    8.0                           6      45000\n",
       "2       five                    6.0                           7      60000\n",
       "3        two                   10.0                          10      65000\n",
       "4      seven                    9.0                           6      70000\n",
       "5      three                    7.0                          10      62000\n",
       "6        ten                    NaN                           7      72000\n",
       "7     eleven                    7.0                           8      80000"
      ]
     },
     "execution_count": 57,
     "metadata": {},
     "output_type": "execute_result"
    }
   ],
   "source": [
    "df.experience = df.experience.fillna(\"zero\")\n",
    "df"
   ]
  },
  {
   "cell_type": "code",
   "execution_count": 58,
   "metadata": {},
   "outputs": [],
   "source": [
    "from word2number import w2n"
   ]
  },
  {
   "cell_type": "code",
   "execution_count": 59,
   "metadata": {},
   "outputs": [
    {
     "data": {
      "text/html": [
       "<div>\n",
       "<style scoped>\n",
       "    .dataframe tbody tr th:only-of-type {\n",
       "        vertical-align: middle;\n",
       "    }\n",
       "\n",
       "    .dataframe tbody tr th {\n",
       "        vertical-align: top;\n",
       "    }\n",
       "\n",
       "    .dataframe thead th {\n",
       "        text-align: right;\n",
       "    }\n",
       "</style>\n",
       "<table border=\"1\" class=\"dataframe\">\n",
       "  <thead>\n",
       "    <tr style=\"text-align: right;\">\n",
       "      <th></th>\n",
       "      <th>experience</th>\n",
       "      <th>test_score(out of 10)</th>\n",
       "      <th>interview_score(out of 10)</th>\n",
       "      <th>salary($)</th>\n",
       "    </tr>\n",
       "  </thead>\n",
       "  <tbody>\n",
       "    <tr>\n",
       "      <th>0</th>\n",
       "      <td>0</td>\n",
       "      <td>8.0</td>\n",
       "      <td>9</td>\n",
       "      <td>50000</td>\n",
       "    </tr>\n",
       "    <tr>\n",
       "      <th>1</th>\n",
       "      <td>0</td>\n",
       "      <td>8.0</td>\n",
       "      <td>6</td>\n",
       "      <td>45000</td>\n",
       "    </tr>\n",
       "    <tr>\n",
       "      <th>2</th>\n",
       "      <td>5</td>\n",
       "      <td>6.0</td>\n",
       "      <td>7</td>\n",
       "      <td>60000</td>\n",
       "    </tr>\n",
       "    <tr>\n",
       "      <th>3</th>\n",
       "      <td>2</td>\n",
       "      <td>10.0</td>\n",
       "      <td>10</td>\n",
       "      <td>65000</td>\n",
       "    </tr>\n",
       "    <tr>\n",
       "      <th>4</th>\n",
       "      <td>7</td>\n",
       "      <td>9.0</td>\n",
       "      <td>6</td>\n",
       "      <td>70000</td>\n",
       "    </tr>\n",
       "    <tr>\n",
       "      <th>5</th>\n",
       "      <td>3</td>\n",
       "      <td>7.0</td>\n",
       "      <td>10</td>\n",
       "      <td>62000</td>\n",
       "    </tr>\n",
       "    <tr>\n",
       "      <th>6</th>\n",
       "      <td>10</td>\n",
       "      <td>NaN</td>\n",
       "      <td>7</td>\n",
       "      <td>72000</td>\n",
       "    </tr>\n",
       "    <tr>\n",
       "      <th>7</th>\n",
       "      <td>11</td>\n",
       "      <td>7.0</td>\n",
       "      <td>8</td>\n",
       "      <td>80000</td>\n",
       "    </tr>\n",
       "  </tbody>\n",
       "</table>\n",
       "</div>"
      ],
      "text/plain": [
       "   experience  test_score(out of 10)  interview_score(out of 10)  salary($)\n",
       "0           0                    8.0                           9      50000\n",
       "1           0                    8.0                           6      45000\n",
       "2           5                    6.0                           7      60000\n",
       "3           2                   10.0                          10      65000\n",
       "4           7                    9.0                           6      70000\n",
       "5           3                    7.0                          10      62000\n",
       "6          10                    NaN                           7      72000\n",
       "7          11                    7.0                           8      80000"
      ]
     },
     "execution_count": 59,
     "metadata": {},
     "output_type": "execute_result"
    }
   ],
   "source": [
    "df.experience = df.experience.apply(w2n.word_to_num)\n",
    "df"
   ]
  },
  {
   "cell_type": "code",
   "execution_count": 60,
   "metadata": {},
   "outputs": [
    {
     "data": {
      "text/plain": [
       "8"
      ]
     },
     "execution_count": 60,
     "metadata": {},
     "output_type": "execute_result"
    }
   ],
   "source": [
    "import math\n",
    "\n",
    "median_test_score =math.floor(df['test_score(out of 10)'].median())\n",
    "median_test_score"
   ]
  },
  {
   "cell_type": "code",
   "execution_count": 61,
   "metadata": {},
   "outputs": [
    {
     "data": {
      "text/html": [
       "<div>\n",
       "<style scoped>\n",
       "    .dataframe tbody tr th:only-of-type {\n",
       "        vertical-align: middle;\n",
       "    }\n",
       "\n",
       "    .dataframe tbody tr th {\n",
       "        vertical-align: top;\n",
       "    }\n",
       "\n",
       "    .dataframe thead th {\n",
       "        text-align: right;\n",
       "    }\n",
       "</style>\n",
       "<table border=\"1\" class=\"dataframe\">\n",
       "  <thead>\n",
       "    <tr style=\"text-align: right;\">\n",
       "      <th></th>\n",
       "      <th>experience</th>\n",
       "      <th>test_score(out of 10)</th>\n",
       "      <th>interview_score(out of 10)</th>\n",
       "      <th>salary($)</th>\n",
       "    </tr>\n",
       "  </thead>\n",
       "  <tbody>\n",
       "    <tr>\n",
       "      <th>0</th>\n",
       "      <td>0</td>\n",
       "      <td>8.0</td>\n",
       "      <td>9</td>\n",
       "      <td>50000</td>\n",
       "    </tr>\n",
       "    <tr>\n",
       "      <th>1</th>\n",
       "      <td>0</td>\n",
       "      <td>8.0</td>\n",
       "      <td>6</td>\n",
       "      <td>45000</td>\n",
       "    </tr>\n",
       "    <tr>\n",
       "      <th>2</th>\n",
       "      <td>5</td>\n",
       "      <td>6.0</td>\n",
       "      <td>7</td>\n",
       "      <td>60000</td>\n",
       "    </tr>\n",
       "    <tr>\n",
       "      <th>3</th>\n",
       "      <td>2</td>\n",
       "      <td>10.0</td>\n",
       "      <td>10</td>\n",
       "      <td>65000</td>\n",
       "    </tr>\n",
       "    <tr>\n",
       "      <th>4</th>\n",
       "      <td>7</td>\n",
       "      <td>9.0</td>\n",
       "      <td>6</td>\n",
       "      <td>70000</td>\n",
       "    </tr>\n",
       "    <tr>\n",
       "      <th>5</th>\n",
       "      <td>3</td>\n",
       "      <td>7.0</td>\n",
       "      <td>10</td>\n",
       "      <td>62000</td>\n",
       "    </tr>\n",
       "    <tr>\n",
       "      <th>6</th>\n",
       "      <td>10</td>\n",
       "      <td>8.0</td>\n",
       "      <td>7</td>\n",
       "      <td>72000</td>\n",
       "    </tr>\n",
       "    <tr>\n",
       "      <th>7</th>\n",
       "      <td>11</td>\n",
       "      <td>7.0</td>\n",
       "      <td>8</td>\n",
       "      <td>80000</td>\n",
       "    </tr>\n",
       "  </tbody>\n",
       "</table>\n",
       "</div>"
      ],
      "text/plain": [
       "   experience  test_score(out of 10)  interview_score(out of 10)  salary($)\n",
       "0           0                    8.0                           9      50000\n",
       "1           0                    8.0                           6      45000\n",
       "2           5                    6.0                           7      60000\n",
       "3           2                   10.0                          10      65000\n",
       "4           7                    9.0                           6      70000\n",
       "5           3                    7.0                          10      62000\n",
       "6          10                    8.0                           7      72000\n",
       "7          11                    7.0                           8      80000"
      ]
     },
     "execution_count": 61,
     "metadata": {},
     "output_type": "execute_result"
    }
   ],
   "source": [
    "df['test_score(out of 10)'] = df['test_score(out of 10)'].fillna(median_test_score)\n",
    "df"
   ]
  },
  {
   "cell_type": "code",
   "execution_count": 62,
   "metadata": {},
   "outputs": [
    {
     "data": {
      "text/html": [
       "<div>\n",
       "<style scoped>\n",
       "    .dataframe tbody tr th:only-of-type {\n",
       "        vertical-align: middle;\n",
       "    }\n",
       "\n",
       "    .dataframe tbody tr th {\n",
       "        vertical-align: top;\n",
       "    }\n",
       "\n",
       "    .dataframe thead th {\n",
       "        text-align: right;\n",
       "    }\n",
       "</style>\n",
       "<table border=\"1\" class=\"dataframe\">\n",
       "  <thead>\n",
       "    <tr style=\"text-align: right;\">\n",
       "      <th></th>\n",
       "      <th>experience</th>\n",
       "      <th>test_score(out of 10)</th>\n",
       "      <th>interview_score(out of 10)</th>\n",
       "    </tr>\n",
       "  </thead>\n",
       "  <tbody>\n",
       "    <tr>\n",
       "      <th>0</th>\n",
       "      <td>0</td>\n",
       "      <td>8.0</td>\n",
       "      <td>9</td>\n",
       "    </tr>\n",
       "    <tr>\n",
       "      <th>1</th>\n",
       "      <td>0</td>\n",
       "      <td>8.0</td>\n",
       "      <td>6</td>\n",
       "    </tr>\n",
       "    <tr>\n",
       "      <th>2</th>\n",
       "      <td>5</td>\n",
       "      <td>6.0</td>\n",
       "      <td>7</td>\n",
       "    </tr>\n",
       "    <tr>\n",
       "      <th>3</th>\n",
       "      <td>2</td>\n",
       "      <td>10.0</td>\n",
       "      <td>10</td>\n",
       "    </tr>\n",
       "    <tr>\n",
       "      <th>4</th>\n",
       "      <td>7</td>\n",
       "      <td>9.0</td>\n",
       "      <td>6</td>\n",
       "    </tr>\n",
       "    <tr>\n",
       "      <th>5</th>\n",
       "      <td>3</td>\n",
       "      <td>7.0</td>\n",
       "      <td>10</td>\n",
       "    </tr>\n",
       "    <tr>\n",
       "      <th>6</th>\n",
       "      <td>10</td>\n",
       "      <td>8.0</td>\n",
       "      <td>7</td>\n",
       "    </tr>\n",
       "    <tr>\n",
       "      <th>7</th>\n",
       "      <td>11</td>\n",
       "      <td>7.0</td>\n",
       "      <td>8</td>\n",
       "    </tr>\n",
       "  </tbody>\n",
       "</table>\n",
       "</div>"
      ],
      "text/plain": [
       "   experience  test_score(out of 10)  interview_score(out of 10)\n",
       "0           0                    8.0                           9\n",
       "1           0                    8.0                           6\n",
       "2           5                    6.0                           7\n",
       "3           2                   10.0                          10\n",
       "4           7                    9.0                           6\n",
       "5           3                    7.0                          10\n",
       "6          10                    8.0                           7\n",
       "7          11                    7.0                           8"
      ]
     },
     "execution_count": 62,
     "metadata": {},
     "output_type": "execute_result"
    }
   ],
   "source": [
    "X = df.drop(columns='salary($)',axis=1)\n",
    "X"
   ]
  },
  {
   "cell_type": "code",
   "execution_count": 63,
   "metadata": {},
   "outputs": [
    {
     "data": {
      "text/html": [
       "<div>\n",
       "<style scoped>\n",
       "    .dataframe tbody tr th:only-of-type {\n",
       "        vertical-align: middle;\n",
       "    }\n",
       "\n",
       "    .dataframe tbody tr th {\n",
       "        vertical-align: top;\n",
       "    }\n",
       "\n",
       "    .dataframe thead th {\n",
       "        text-align: right;\n",
       "    }\n",
       "</style>\n",
       "<table border=\"1\" class=\"dataframe\">\n",
       "  <thead>\n",
       "    <tr style=\"text-align: right;\">\n",
       "      <th></th>\n",
       "      <th>salary($)</th>\n",
       "    </tr>\n",
       "  </thead>\n",
       "  <tbody>\n",
       "    <tr>\n",
       "      <th>0</th>\n",
       "      <td>50000</td>\n",
       "    </tr>\n",
       "    <tr>\n",
       "      <th>1</th>\n",
       "      <td>45000</td>\n",
       "    </tr>\n",
       "    <tr>\n",
       "      <th>2</th>\n",
       "      <td>60000</td>\n",
       "    </tr>\n",
       "    <tr>\n",
       "      <th>3</th>\n",
       "      <td>65000</td>\n",
       "    </tr>\n",
       "    <tr>\n",
       "      <th>4</th>\n",
       "      <td>70000</td>\n",
       "    </tr>\n",
       "    <tr>\n",
       "      <th>5</th>\n",
       "      <td>62000</td>\n",
       "    </tr>\n",
       "    <tr>\n",
       "      <th>6</th>\n",
       "      <td>72000</td>\n",
       "    </tr>\n",
       "    <tr>\n",
       "      <th>7</th>\n",
       "      <td>80000</td>\n",
       "    </tr>\n",
       "  </tbody>\n",
       "</table>\n",
       "</div>"
      ],
      "text/plain": [
       "   salary($)\n",
       "0      50000\n",
       "1      45000\n",
       "2      60000\n",
       "3      65000\n",
       "4      70000\n",
       "5      62000\n",
       "6      72000\n",
       "7      80000"
      ]
     },
     "execution_count": 63,
     "metadata": {},
     "output_type": "execute_result"
    }
   ],
   "source": [
    "y = df[['salary($)']]\n",
    "y"
   ]
  },
  {
   "cell_type": "code",
   "execution_count": 65,
   "metadata": {},
   "outputs": [
    {
     "data": {
      "text/plain": [
       "LinearRegression()"
      ]
     },
     "execution_count": 65,
     "metadata": {},
     "output_type": "execute_result"
    }
   ],
   "source": [
    "reg = LinearRegression()\n",
    "reg.fit(X,y)"
   ]
  },
  {
   "cell_type": "code",
   "execution_count": 66,
   "metadata": {},
   "outputs": [
    {
     "data": {
      "text/plain": [
       "array([[2812.95487627, 1845.70596798, 2205.24017467]])"
      ]
     },
     "execution_count": 66,
     "metadata": {},
     "output_type": "execute_result"
    }
   ],
   "source": [
    "reg.coef_"
   ]
  },
  {
   "cell_type": "code",
   "execution_count": 67,
   "metadata": {},
   "outputs": [
    {
     "data": {
      "text/plain": [
       "array([17737.26346434])"
      ]
     },
     "execution_count": 67,
     "metadata": {},
     "output_type": "execute_result"
    }
   ],
   "source": [
    "reg.intercept_"
   ]
  },
  {
   "cell_type": "code",
   "execution_count": 68,
   "metadata": {},
   "outputs": [
    {
     "name": "stderr",
     "output_type": "stream",
     "text": [
      "d:\\Anaconda\\lib\\site-packages\\sklearn\\base.py:450: UserWarning: X does not have valid feature names, but LinearRegression was fitted with feature names\n",
      "  warnings.warn(\n"
     ]
    },
    {
     "data": {
      "text/plain": [
       "array([[53205.96797671]])"
      ]
     },
     "execution_count": 68,
     "metadata": {},
     "output_type": "execute_result"
    }
   ],
   "source": [
    "reg.predict([[2,9,6]])"
   ]
  },
  {
   "cell_type": "code",
   "execution_count": 69,
   "metadata": {},
   "outputs": [
    {
     "name": "stderr",
     "output_type": "stream",
     "text": [
      "d:\\Anaconda\\lib\\site-packages\\sklearn\\base.py:450: UserWarning: X does not have valid feature names, but LinearRegression was fitted with feature names\n",
      "  warnings.warn(\n"
     ]
    },
    {
     "data": {
      "text/plain": [
       "array([[92002.18340611]])"
      ]
     },
     "execution_count": 69,
     "metadata": {},
     "output_type": "execute_result"
    }
   ],
   "source": [
    "reg.predict([[12,10,10]])"
   ]
  },
  {
   "cell_type": "code",
   "execution_count": 1,
   "metadata": {},
   "outputs": [
    {
     "name": "stdout",
     "output_type": "stream",
     "text": [
      "[3, 4, 0, 2, 1]\n"
     ]
    }
   ],
   "source": [
    "import random\n",
    "\n",
    "def fitness(individual, jobs, machines):\n",
    "    # Her makinenin işlem süresi hesaplanır\n",
    "    machine_times = [0] * machines\n",
    "    for job in individual:\n",
    "        for i in range(machines):\n",
    "            machine_times[i] += jobs[job][i]\n",
    "    # En büyük işlem süresi bulunur ve uygunluk değeri olarak döndürülür\n",
    "    return max(machine_times)\n",
    "\n",
    "def create_population(size, jobs):\n",
    "    # Rastgele başlangıç popülasyonu oluşturulur\n",
    "    population = []\n",
    "    for i in range(size):\n",
    "        individual = list(range(len(jobs)))\n",
    "        random.shuffle(individual)\n",
    "        population.append(individual)\n",
    "    return population\n",
    "\n",
    "def selection(population):\n",
    "    # Turnuva seçimi yöntemi uygulanır\n",
    "    tournament_size = 3\n",
    "    tournament = random.sample(population, tournament_size)\n",
    "    return min(tournament, key=lambda x: fitness(x, jobs, machines))\n",
    "\n",
    "def crossover(parent1, parent2):\n",
    "    # Tek noktalı çaprazlama işlemi uygulanır\n",
    "    point = random.randint(0, len(parent1)-1)\n",
    "    child = parent1[:point] + [x for x in parent2 if x not in parent1[:point]]\n",
    "    return child\n",
    "\n",
    "def mutation(individual):\n",
    "    # Swap mutasyonu uygulanır\n",
    "    index1, index2 = random.sample(range(len(individual)), 2)\n",
    "    individual[index1], individual[index2] = individual[index2], individual[index1]\n",
    "    return individual\n",
    "\n",
    "def genetic_algorithm(population_size, jobs, machines, generations):\n",
    "    population = create_population(population_size, jobs)\n",
    "    for i in range(generations):\n",
    "        new_population = []\n",
    "        for j in range(population_size):\n",
    "            parent1 = selection(population)\n",
    "            parent2 = selection(population)\n",
    "            child = crossover(parent1, parent2)\n",
    "            if random.uniform(0, 1) < 0.1:\n",
    "                child = mutation(child)\n",
    "            new_population.append(child)\n",
    "        population = new_population\n",
    "    return min(population, key=lambda x: fitness(x, jobs, machines))\n",
    "\n",
    "# Örnek girdiler\n",
    "jobs = [[4, 5, 2], [2, 1, 6], [1, 3, 7], [6, 2, 5], [3, 7, 1]]\n",
    "machines = 3\n",
    "\n",
    "# Genetik algoritma kullanarak optimize edilen çözüm\n",
    "best_solution = genetic_algorithm(population_size=50, jobs=jobs, machines=machines, generations=100)\n",
    "print(best_solution)"
   ]
  },
  {
   "cell_type": "code",
   "execution_count": 2,
   "metadata": {},
   "outputs": [
    {
     "name": "stderr",
     "output_type": "stream",
     "text": [
      "C:\\Users\\necme\\AppData\\Local\\Temp\\ipykernel_12332\\3294441004.py:35: DeprecationWarning: Sampling from a set deprecated\n",
      "since Python 3.9 and will be removed in a subsequent version.\n",
      "  individual = random.sample(menu.keys(), random.randint(1, len(menu)))\n"
     ]
    },
    {
     "ename": "ZeroDivisionError",
     "evalue": "division by zero",
     "output_type": "error",
     "traceback": [
      "\u001b[1;31m---------------------------------------------------------------------------\u001b[0m",
      "\u001b[1;31mZeroDivisionError\u001b[0m                         Traceback (most recent call last)",
      "\u001b[1;32mc:\\Users\\necme\\Documents\\Python Scripts\\Machine Learning CodeBasics\\2 - Multiple Variables LR\\hiring\\exercise.ipynb Cell 19\u001b[0m in \u001b[0;36m<cell line: 81>\u001b[1;34m()\u001b[0m\n\u001b[0;32m     <a href='vscode-notebook-cell:/c%3A/Users/necme/Documents/Python%20Scripts/Machine%20Learning%20CodeBasics/2%20-%20Multiple%20Variables%20LR/hiring/exercise.ipynb#X24sZmlsZQ%3D%3D?line=77'>78</a>\u001b[0m     \u001b[39mreturn\u001b[39;00m best_individual\n\u001b[0;32m     <a href='vscode-notebook-cell:/c%3A/Users/necme/Documents/Python%20Scripts/Machine%20Learning%20CodeBasics/2%20-%20Multiple%20Variables%20LR/hiring/exercise.ipynb#X24sZmlsZQ%3D%3D?line=79'>80</a>\u001b[0m \u001b[39m# En iyi yemek setini yazdıralım\u001b[39;00m\n\u001b[1;32m---> <a href='vscode-notebook-cell:/c%3A/Users/necme/Documents/Python%20Scripts/Machine%20Learning%20CodeBasics/2%20-%20Multiple%20Variables%20LR/hiring/exercise.ipynb#X24sZmlsZQ%3D%3D?line=80'>81</a>\u001b[0m best_set \u001b[39m=\u001b[39m genetic_algorithm()\n\u001b[0;32m     <a href='vscode-notebook-cell:/c%3A/Users/necme/Documents/Python%20Scripts/Machine%20Learning%20CodeBasics/2%20-%20Multiple%20Variables%20LR/hiring/exercise.ipynb#X24sZmlsZQ%3D%3D?line=81'>82</a>\u001b[0m best_calories \u001b[39m=\u001b[39m \u001b[39msum\u001b[39m([menu[key] \u001b[39mfor\u001b[39;00m key \u001b[39min\u001b[39;00m best_set])\n\u001b[0;32m     <a href='vscode-notebook-cell:/c%3A/Users/necme/Documents/Python%20Scripts/Machine%20Learning%20CodeBasics/2%20-%20Multiple%20Variables%20LR/hiring/exercise.ipynb#X24sZmlsZQ%3D%3D?line=82'>83</a>\u001b[0m \u001b[39mprint\u001b[39m(\u001b[39m\"\u001b[39m\u001b[39mEn iyi yemek seti: \u001b[39m\u001b[39m\"\u001b[39m)\n",
      "\u001b[1;32mc:\\Users\\necme\\Documents\\Python Scripts\\Machine Learning CodeBasics\\2 - Multiple Variables LR\\hiring\\exercise.ipynb Cell 19\u001b[0m in \u001b[0;36mgenetic_algorithm\u001b[1;34m()\u001b[0m\n\u001b[0;32m     <a href='vscode-notebook-cell:/c%3A/Users/necme/Documents/Python%20Scripts/Machine%20Learning%20CodeBasics/2%20-%20Multiple%20Variables%20LR/hiring/exercise.ipynb#X24sZmlsZQ%3D%3D?line=73'>74</a>\u001b[0m population \u001b[39m=\u001b[39m create_population()\n\u001b[0;32m     <a href='vscode-notebook-cell:/c%3A/Users/necme/Documents/Python%20Scripts/Machine%20Learning%20CodeBasics/2%20-%20Multiple%20Variables%20LR/hiring/exercise.ipynb#X24sZmlsZQ%3D%3D?line=74'>75</a>\u001b[0m \u001b[39mfor\u001b[39;00m i \u001b[39min\u001b[39;00m \u001b[39mrange\u001b[39m(\u001b[39m100\u001b[39m):\n\u001b[1;32m---> <a href='vscode-notebook-cell:/c%3A/Users/necme/Documents/Python%20Scripts/Machine%20Learning%20CodeBasics/2%20-%20Multiple%20Variables%20LR/hiring/exercise.ipynb#X24sZmlsZQ%3D%3D?line=75'>76</a>\u001b[0m     population \u001b[39m=\u001b[39m create_new_population(population)\n\u001b[0;32m     <a href='vscode-notebook-cell:/c%3A/Users/necme/Documents/Python%20Scripts/Machine%20Learning%20CodeBasics/2%20-%20Multiple%20Variables%20LR/hiring/exercise.ipynb#X24sZmlsZQ%3D%3D?line=76'>77</a>\u001b[0m best_individual \u001b[39m=\u001b[39m \u001b[39mmax\u001b[39m(population, key\u001b[39m=\u001b[39mfitness)\n\u001b[0;32m     <a href='vscode-notebook-cell:/c%3A/Users/necme/Documents/Python%20Scripts/Machine%20Learning%20CodeBasics/2%20-%20Multiple%20Variables%20LR/hiring/exercise.ipynb#X24sZmlsZQ%3D%3D?line=77'>78</a>\u001b[0m \u001b[39mreturn\u001b[39;00m best_individual\n",
      "\u001b[1;32mc:\\Users\\necme\\Documents\\Python Scripts\\Machine Learning CodeBasics\\2 - Multiple Variables LR\\hiring\\exercise.ipynb Cell 19\u001b[0m in \u001b[0;36mcreate_new_population\u001b[1;34m(population)\u001b[0m\n\u001b[0;32m     <a href='vscode-notebook-cell:/c%3A/Users/necme/Documents/Python%20Scripts/Machine%20Learning%20CodeBasics/2%20-%20Multiple%20Variables%20LR/hiring/exercise.ipynb#X24sZmlsZQ%3D%3D?line=60'>61</a>\u001b[0m \u001b[39mdef\u001b[39;00m \u001b[39mcreate_new_population\u001b[39m(population):\n\u001b[0;32m     <a href='vscode-notebook-cell:/c%3A/Users/necme/Documents/Python%20Scripts/Machine%20Learning%20CodeBasics/2%20-%20Multiple%20Variables%20LR/hiring/exercise.ipynb#X24sZmlsZQ%3D%3D?line=61'>62</a>\u001b[0m     new_population \u001b[39m=\u001b[39m []\n\u001b[1;32m---> <a href='vscode-notebook-cell:/c%3A/Users/necme/Documents/Python%20Scripts/Machine%20Learning%20CodeBasics/2%20-%20Multiple%20Variables%20LR/hiring/exercise.ipynb#X24sZmlsZQ%3D%3D?line=62'>63</a>\u001b[0m     fitnesses \u001b[39m=\u001b[39m [fitness(individual) \u001b[39mfor\u001b[39;00m individual \u001b[39min\u001b[39;00m population]\n\u001b[0;32m     <a href='vscode-notebook-cell:/c%3A/Users/necme/Documents/Python%20Scripts/Machine%20Learning%20CodeBasics/2%20-%20Multiple%20Variables%20LR/hiring/exercise.ipynb#X24sZmlsZQ%3D%3D?line=63'>64</a>\u001b[0m     \u001b[39mfor\u001b[39;00m i \u001b[39min\u001b[39;00m \u001b[39mrange\u001b[39m(population_size):\n\u001b[0;32m     <a href='vscode-notebook-cell:/c%3A/Users/necme/Documents/Python%20Scripts/Machine%20Learning%20CodeBasics/2%20-%20Multiple%20Variables%20LR/hiring/exercise.ipynb#X24sZmlsZQ%3D%3D?line=64'>65</a>\u001b[0m         parent1 \u001b[39m=\u001b[39m selection(population)\n",
      "\u001b[1;32mc:\\Users\\necme\\Documents\\Python Scripts\\Machine Learning CodeBasics\\2 - Multiple Variables LR\\hiring\\exercise.ipynb Cell 19\u001b[0m in \u001b[0;36m<listcomp>\u001b[1;34m(.0)\u001b[0m\n\u001b[0;32m     <a href='vscode-notebook-cell:/c%3A/Users/necme/Documents/Python%20Scripts/Machine%20Learning%20CodeBasics/2%20-%20Multiple%20Variables%20LR/hiring/exercise.ipynb#X24sZmlsZQ%3D%3D?line=60'>61</a>\u001b[0m \u001b[39mdef\u001b[39;00m \u001b[39mcreate_new_population\u001b[39m(population):\n\u001b[0;32m     <a href='vscode-notebook-cell:/c%3A/Users/necme/Documents/Python%20Scripts/Machine%20Learning%20CodeBasics/2%20-%20Multiple%20Variables%20LR/hiring/exercise.ipynb#X24sZmlsZQ%3D%3D?line=61'>62</a>\u001b[0m     new_population \u001b[39m=\u001b[39m []\n\u001b[1;32m---> <a href='vscode-notebook-cell:/c%3A/Users/necme/Documents/Python%20Scripts/Machine%20Learning%20CodeBasics/2%20-%20Multiple%20Variables%20LR/hiring/exercise.ipynb#X24sZmlsZQ%3D%3D?line=62'>63</a>\u001b[0m     fitnesses \u001b[39m=\u001b[39m [fitness(individual) \u001b[39mfor\u001b[39;00m individual \u001b[39min\u001b[39;00m population]\n\u001b[0;32m     <a href='vscode-notebook-cell:/c%3A/Users/necme/Documents/Python%20Scripts/Machine%20Learning%20CodeBasics/2%20-%20Multiple%20Variables%20LR/hiring/exercise.ipynb#X24sZmlsZQ%3D%3D?line=63'>64</a>\u001b[0m     \u001b[39mfor\u001b[39;00m i \u001b[39min\u001b[39;00m \u001b[39mrange\u001b[39m(population_size):\n\u001b[0;32m     <a href='vscode-notebook-cell:/c%3A/Users/necme/Documents/Python%20Scripts/Machine%20Learning%20CodeBasics/2%20-%20Multiple%20Variables%20LR/hiring/exercise.ipynb#X24sZmlsZQ%3D%3D?line=64'>65</a>\u001b[0m         parent1 \u001b[39m=\u001b[39m selection(population)\n",
      "\u001b[1;32mc:\\Users\\necme\\Documents\\Python Scripts\\Machine Learning CodeBasics\\2 - Multiple Variables LR\\hiring\\exercise.ipynb Cell 19\u001b[0m in \u001b[0;36mfitness\u001b[1;34m(individual)\u001b[0m\n\u001b[0;32m     <a href='vscode-notebook-cell:/c%3A/Users/necme/Documents/Python%20Scripts/Machine%20Learning%20CodeBasics/2%20-%20Multiple%20Variables%20LR/hiring/exercise.ipynb#X24sZmlsZQ%3D%3D?line=26'>27</a>\u001b[0m \u001b[39mdef\u001b[39;00m \u001b[39mfitness\u001b[39m(individual):\n\u001b[0;32m     <a href='vscode-notebook-cell:/c%3A/Users/necme/Documents/Python%20Scripts/Machine%20Learning%20CodeBasics/2%20-%20Multiple%20Variables%20LR/hiring/exercise.ipynb#X24sZmlsZQ%3D%3D?line=27'>28</a>\u001b[0m     calories \u001b[39m=\u001b[39m \u001b[39msum\u001b[39m([menu[key] \u001b[39mfor\u001b[39;00m key \u001b[39min\u001b[39;00m individual])\n\u001b[1;32m---> <a href='vscode-notebook-cell:/c%3A/Users/necme/Documents/Python%20Scripts/Machine%20Learning%20CodeBasics/2%20-%20Multiple%20Variables%20LR/hiring/exercise.ipynb#X24sZmlsZQ%3D%3D?line=28'>29</a>\u001b[0m     \u001b[39mreturn\u001b[39;00m \u001b[39m1\u001b[39;49m \u001b[39m/\u001b[39;49m \u001b[39mabs\u001b[39;49m(target_calories \u001b[39m-\u001b[39;49m calories)\n",
      "\u001b[1;31mZeroDivisionError\u001b[0m: division by zero"
     ]
    }
   ],
   "source": [
    "import random\n",
    "\n",
    "# Restoran menüsü ve kalori değerleri\n",
    "menu = {\n",
    "    'Köfte': 600,\n",
    "    'Izgara Tavuk': 400,\n",
    "    'Sebzeli Noodle': 800,\n",
    "    'Salata': 200,\n",
    "    'Makarna': 700,\n",
    "    'Kebap': 550,\n",
    "    'Köri': 850,\n",
    "    'Tavuk Sote': 500,\n",
    "    'Biftek': 900,\n",
    "    'Tavuk Burger': 350\n",
    "}\n",
    "\n",
    "# Hedef kalori sınırı\n",
    "target_calories = 2000\n",
    "\n",
    "# Popülasyon boyutu\n",
    "population_size = 100\n",
    "\n",
    "# Mutasyon olasılığı\n",
    "mutation_prob = 0.1\n",
    "\n",
    "# Fitness fonksiyonu\n",
    "def fitness(individual):\n",
    "    calories = sum([menu[key] for key in individual])\n",
    "    return 1 / abs(target_calories - calories)\n",
    "\n",
    "# Başlangıç popülasyonunu oluşturma\n",
    "def create_population():\n",
    "    population = []\n",
    "    for i in range(population_size):\n",
    "        individual = random.sample(menu.keys(), random.randint(1, len(menu)))\n",
    "        population.append(individual)\n",
    "    return population\n",
    "\n",
    "# Turnuva seçimi yöntemi\n",
    "def selection(population):\n",
    "    tournament_size = 3\n",
    "    tournament_indices = random.sample(range(len(population)), tournament_size)\n",
    "    tournament_fitnesses = [fitness(population[i]) for i in tournament_indices]\n",
    "    return population[tournament_indices[tournament_fitnesses.index(max(tournament_fitnesses))]]\n",
    "\n",
    "# Tek noktalı çaprazlama işlemi\n",
    "def crossover(parent1, parent2):\n",
    "    point = random.randint(0, len(parent1)-1)\n",
    "    child = parent1[:point] + parent2[point:]\n",
    "    return child\n",
    "\n",
    "# Swap mutasyonu\n",
    "def mutation(individual):\n",
    "    for i in range(len(individual)):\n",
    "        if random.uniform(0, 1) < mutation_prob:\n",
    "            j = random.randint(0, len(individual)-1)\n",
    "            individual[i], individual[j] = individual[j], individual[i]\n",
    "    return individual\n",
    "\n",
    "# Yeni nesil popülasyonunu oluşturma\n",
    "def create_new_population(population):\n",
    "    new_population = []\n",
    "    fitnesses = [fitness(individual) for individual in population]\n",
    "    for i in range(population_size):\n",
    "        parent1 = selection(population)\n",
    "        parent2 = selection(population)\n",
    "        child = crossover(parent1, parent2)\n",
    "        child = mutation(child)\n",
    "        new_population.append(child)\n",
    "    return new_population\n",
    "\n",
    "# Genetik algoritma işleminin yürütülmesi\n",
    "def genetic_algorithm():\n",
    "    population = create_population()\n",
    "    for i in range(100):\n",
    "        population = create_new_population(population)\n",
    "    best_individual = max(population, key=fitness)\n",
    "    return best_individual\n",
    "\n",
    "# En iyi yemek setini yazdıralım\n",
    "best_set = genetic_algorithm()\n",
    "best_calories = sum([menu[key] for key in best_set])\n",
    "print(\"En iyi yemek seti: \")\n",
    "print(best_set)\n",
    "print(\"Toplam kalori: \", best_calories)"
   ]
  },
  {
   "cell_type": "code",
   "execution_count": 10,
   "metadata": {},
   "outputs": [
    {
     "name": "stdout",
     "output_type": "stream",
     "text": [
      "En iyi yemek seti: \n",
      "['Sebzeli Noodle', 'Tavuk Sote', 'Makarna']\n",
      "Toplam kalori:  2000\n"
     ]
    },
    {
     "name": "stderr",
     "output_type": "stream",
     "text": [
      "C:\\Users\\necme\\AppData\\Local\\Temp\\ipykernel_12332\\890558327.py:38: DeprecationWarning: Sampling from a set deprecated\n",
      "since Python 3.9 and will be removed in a subsequent version.\n",
      "  individual = random.sample(menu.keys(), random.randint(1, len(menu)))\n"
     ]
    }
   ],
   "source": [
    "import random\n",
    "\n",
    "# Restoran menüsü ve kalori değerleri\n",
    "menu = {\n",
    "    'Köfte': 600,\n",
    "    'Izgara Tavuk': 400,\n",
    "    'Sebzeli Noodle': 800,\n",
    "    'Salata': 200,\n",
    "    'Makarna': 700,\n",
    "    'Kebap': 550,\n",
    "    'Köri': 850,\n",
    "    'Tavuk Sote': 500,\n",
    "    'Biftek': 900,\n",
    "    'Tavuk Burger': 350\n",
    "}\n",
    "\n",
    "# Hedef kalori sınırı\n",
    "target_calories = 2000\n",
    "\n",
    "# Popülasyon boyutu\n",
    "population_size = 100\n",
    "\n",
    "# Mutasyon olasılığı\n",
    "mutation_prob = 0.1\n",
    "\n",
    "# Fitness fonksiyonu\n",
    "def fitness(individual):\n",
    "    calories = sum([menu[key] for key in individual])\n",
    "    if calories == target_calories:\n",
    "        return 1.0\n",
    "    else:\n",
    "        return 1 / abs(target_calories - calories)\n",
    "\n",
    "# Başlangıç popülasyonunu oluşturma\n",
    "def create_population():\n",
    "    population = []\n",
    "    for i in range(population_size):\n",
    "        individual = random.sample(menu.keys(), random.randint(1, len(menu)))\n",
    "        population.append(individual)\n",
    "    return population\n",
    "\n",
    "# Turnuva seçimi yöntemi\n",
    "def selection(population):\n",
    "    tournament_size = 3\n",
    "    tournament_indices = random.sample(range(len(population)), tournament_size)\n",
    "    tournament_fitnesses = [fitness(population[i]) for i in tournament_indices]\n",
    "    return population[tournament_indices[tournament_fitnesses.index(max(tournament_fitnesses))]]\n",
    "\n",
    "# Tek noktalı çaprazlama işlemi\n",
    "def crossover(parent1, parent2):\n",
    "    point = random.randint(0, len(parent1)-1)\n",
    "    child = parent1[:point] + parent2[point:]\n",
    "    return child\n",
    "\n",
    "# Swap mutasyonu\n",
    "def mutation(individual):\n",
    "    for i in range(len(individual)):\n",
    "        if random.uniform(0, 1) < mutation_prob:\n",
    "            j = random.randint(0, len(individual)-1)\n",
    "            individual[i], individual[j] = individual[j], individual[i]\n",
    "    return individual\n",
    "\n",
    "# Yeni nesil popülasyonunu oluşturma\n",
    "def create_new_population(population):\n",
    "    new_population = []\n",
    "    fitnesses = [fitness(individual) for individual in population]\n",
    "    for i in range(population_size):\n",
    "        parent1 = selection(population)\n",
    "        parent2 = selection(population)\n",
    "        child = crossover(parent1, parent2)\n",
    "        child = mutation(child)\n",
    "        new_population.append(child)\n",
    "    return new_population\n",
    "\n",
    "# Genetik algoritma işleminin yürütülmesi\n",
    "def genetic_algorithm():\n",
    "    population = create_population()\n",
    "    for i in range(100):\n",
    "        population = create_new_population(population)\n",
    "    best_individual = max(population, key=fitness)\n",
    "    return best_individual\n",
    "\n",
    "# En iyi yemek setini yazdıralım\n",
    "best_set = genetic_algorithm()\n",
    "best_calories = sum([menu[key] for key in best_set])\n",
    "print(\"En iyi yemek seti: \")\n",
    "print(best_set)\n",
    "print(\"Toplam kalori: \", best_calories)"
   ]
  },
  {
   "cell_type": "code",
   "execution_count": null,
   "metadata": {},
   "outputs": [],
   "source": []
  }
 ],
 "metadata": {
  "kernelspec": {
   "display_name": "base",
   "language": "python",
   "name": "python3"
  },
  "language_info": {
   "codemirror_mode": {
    "name": "ipython",
    "version": 3
   },
   "file_extension": ".py",
   "mimetype": "text/x-python",
   "name": "python",
   "nbconvert_exporter": "python",
   "pygments_lexer": "ipython3",
   "version": "3.9.12"
  },
  "orig_nbformat": 4,
  "vscode": {
   "interpreter": {
    "hash": "88279d2366fe020547cde40dd65aa0e3aa662a6ec1f3ca12d88834876c85e1a6"
   }
  }
 },
 "nbformat": 4,
 "nbformat_minor": 2
}
